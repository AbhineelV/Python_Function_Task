{
 "cells": [
  {
   "cell_type": "markdown",
   "metadata": {},
   "source": [
    "# Arthimetic Operation Function"
   ]
  },
  {
   "cell_type": "code",
   "execution_count": 10,
   "metadata": {},
   "outputs": [
    {
     "name": "stdout",
     "output_type": "stream",
     "text": [
      "val1 + val2 =150+150=300\n"
     ]
    }
   ],
   "source": [
    " def add1(val1,val2):\n",
    "    result = val1 + val2\n",
    "    print(f'val1 + val2 ={val1}+{val2}={result}')\n",
    "\n",
    "add1(150,150)"
   ]
  },
  {
   "cell_type": "code",
   "execution_count": 9,
   "metadata": {},
   "outputs": [
    {
     "name": "stdout",
     "output_type": "stream",
     "text": [
      "v1 * v2=16*25=400\n"
     ]
    }
   ],
   "source": [
    "def multi(v1,v2):\n",
    "    result = v1 * v2\n",
    "    print(f'v1 * v2={v1}*{v2}={result}')\n",
    "\n",
    "multi(16,25)\n"
   ]
  },
  {
   "cell_type": "markdown",
   "metadata": {},
   "source": [
    "# Comparision Function"
   ]
  },
  {
   "cell_type": "code",
   "execution_count": 11,
   "metadata": {},
   "outputs": [
    {
     "name": "stdout",
     "output_type": "stream",
     "text": [
      "num1 > num2 =50>70=False\n"
     ]
    }
   ],
   "source": [
    "def compare(num1 ,num2):\n",
    "    result = num1 > num2\n",
    "    print(f'num1 > num2 ={num1}>{num2}={result}')\n",
    "compare(50,70)"
   ]
  },
  {
   "cell_type": "code",
   "execution_count": 12,
   "metadata": {},
   "outputs": [
    {
     "name": "stdout",
     "output_type": "stream",
     "text": [
      "num1 > num2 =150>70=True\n"
     ]
    }
   ],
   "source": [
    "def compare(num1 ,num2):\n",
    "    result = num1 > num2\n",
    "    print(f'num1 > num2 ={num1}>{num2}={result}')\n",
    "compare(150,70)"
   ]
  },
  {
   "cell_type": "markdown",
   "metadata": {},
   "source": [
    "# Return Function"
   ]
  },
  {
   "cell_type": "code",
   "execution_count": 25,
   "metadata": {},
   "outputs": [
    {
     "name": "stdout",
     "output_type": "stream",
     "text": [
      "s1 / s2=20/5=4.0\n",
      "output=4.0\n"
     ]
    }
   ],
   "source": [
    "def check(s1,s2):\n",
    "    result = s1/s2\n",
    "    print(f's1 / s2={s1}/{s2}={result}')\n",
    "    return result\n",
    "\n",
    "output=check(20,5)\n",
    "print(f'output={output}')"
   ]
  },
  {
   "cell_type": "code",
   "execution_count": 26,
   "metadata": {},
   "outputs": [
    {
     "name": "stdout",
     "output_type": "stream",
     "text": [
      "va1 < va2 =12<25=False\n",
      "output=False\n"
     ]
    }
   ],
   "source": [
    "def com(va1,va2):\n",
    "    result = va1 > va2\n",
    "    print(f'va1 < va2 ={va1}<{va2}={result}')\n",
    "    return result\n",
    "output=com(12,25)\n",
    "print(f'output={output}')"
   ]
  }
 ],
 "metadata": {
  "kernelspec": {
   "display_name": "Python 3",
   "language": "python",
   "name": "python3"
  },
  "language_info": {
   "codemirror_mode": {
    "name": "ipython",
    "version": 3
   },
   "file_extension": ".py",
   "mimetype": "text/x-python",
   "name": "python",
   "nbconvert_exporter": "python",
   "pygments_lexer": "ipython3",
   "version": "3.12.4"
  }
 },
 "nbformat": 4,
 "nbformat_minor": 2
}
